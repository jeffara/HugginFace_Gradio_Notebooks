{
  "nbformat": 4,
  "nbformat_minor": 0,
  "metadata": {
    "colab": {
      "provenance": [],
      "machine_shape": "hm",
      "gpuType": "A100",
      "authorship_tag": "ABX9TyNpXKh6UnRNOEiFiEI1AhKQ",
      "include_colab_link": true
    },
    "kernelspec": {
      "name": "python3",
      "display_name": "Python 3"
    },
    "language_info": {
      "name": "python"
    },
    "accelerator": "GPU"
  },
  "cells": [
    {
      "cell_type": "markdown",
      "metadata": {
        "id": "view-in-github",
        "colab_type": "text"
      },
      "source": [
        "<a href=\"https://colab.research.google.com/github/yvrjsharma/HugginFace_Gradio/blob/main/AccDiffusion_Gradio_Colab.ipynb\" target=\"_parent\"><img src=\"https://colab.research.google.com/assets/colab-badge.svg\" alt=\"Open In Colab\"/></a>"
      ]
    },
    {
      "cell_type": "code",
      "execution_count": null,
      "metadata": {
        "id": "RvgHJi2R7MUD"
      },
      "outputs": [],
      "source": [
        "!pip install gradio -q --upgrade"
      ]
    },
    {
      "cell_type": "code",
      "source": [
        "!pip install spaces -q"
      ],
      "metadata": {
        "id": "9_Li3ql97QbS"
      },
      "execution_count": 2,
      "outputs": []
    },
    {
      "cell_type": "code",
      "source": [
        "!git clone https://huggingface.co/spaces/fffiloni/AccDiffusion"
      ],
      "metadata": {
        "id": "pp9P9mYL7QYc"
      },
      "execution_count": null,
      "outputs": []
    },
    {
      "cell_type": "code",
      "source": [
        "%cd AccDiffusion"
      ],
      "metadata": {
        "colab": {
          "base_uri": "https://localhost:8080/"
        },
        "id": "m51rYCaO7Rq5",
        "outputId": "9d8ed8e7-2915-4220-d23f-f2c3e15e7727"
      },
      "execution_count": 4,
      "outputs": [
        {
          "output_type": "stream",
          "name": "stdout",
          "text": [
            "/content/AccDiffusion\n"
          ]
        }
      ]
    },
    {
      "cell_type": "code",
      "source": [
        "!pip install -r requirements.txt"
      ],
      "metadata": {
        "id": "H_fPjlsR7q8b"
      },
      "execution_count": null,
      "outputs": []
    },
    {
      "cell_type": "markdown",
      "source": [
        "**NOTE**: Set `share=True` in `demo.launch()` within the `app.py` file manually, before moving to the next step. You don't need to restart the session when prompted.\n",
        "Also make sure that the gradio version is updated to the latest release (`pip install gradio --upgrade`)"
      ],
      "metadata": {
        "id": "2q7EyKsN714d"
      }
    },
    {
      "cell_type": "code",
      "source": [
        "!python app.py"
      ],
      "metadata": {
        "id": "jsU2RlPm7vO9"
      },
      "execution_count": null,
      "outputs": []
    }
  ]
}