{
  "cells": [
    {
      "cell_type": "markdown",
      "metadata": {
        "id": "view-in-github",
        "colab_type": "text"
      },
      "source": [
        "<a href=\"https://colab.research.google.com/github/yvrjsharma/HugginFace_Gradio/blob/main/Whatsapp_Image_Forwards_In_Your_Language_GradioDemo.ipynb\" target=\"_parent\"><img src=\"https://colab.research.google.com/assets/colab-badge.svg\" alt=\"Open In Colab\"/></a>"
      ]
    },
    {
      "cell_type": "markdown",
      "metadata": {
        "id": "poAXVJMx97gV"
      },
      "source": [
        "# **Translating Text from Images**"
      ]
    },
    {
      "cell_type": "code",
      "source": [
        "# Run this cell to mount your Google Drive.\n",
        "from google.colab import drive\n",
        "drive.flush_and_unmount()\n",
        "drive.mount('/content/gdrive/')\n"
      ],
      "metadata": {
        "colab": {
          "base_uri": "https://localhost:8080/"
        },
        "id": "nBn2lVFlIqYr",
        "outputId": "4c70c35e-9619-47b9-ccfd-a1fa5f4d1652"
      },
      "execution_count": 2,
      "outputs": [
        {
          "output_type": "stream",
          "name": "stdout",
          "text": [
            "Drive not mounted, so nothing to flush and unmount.\n",
            "Mounted at /content/gdrive/\n"
          ]
        }
      ]
    },
    {
      "cell_type": "code",
      "execution_count": null,
      "metadata": {
        "id": "3mRXLtkP97ga"
      },
      "outputs": [],
      "source": [
        "#Installing required libraries\n",
        "!pip install datasets transformers[sentencepiece]\n",
        "!pip install accelerate\n",
        "!apt install git-lfs\n",
        "\n",
        "!sudo apt install tesseract-ocr\n",
        "!pip install pytesseract\n",
        "!pip install keras-ocr\n",
        "!pip install gradio"
      ]
    },
    {
      "cell_type": "code",
      "source": [
        "#importing required libraries\n",
        "import pytesseract\n",
        "from PIL import Image, ImageFont, ImageDraw \n",
        "from transformers import AutoTokenizer, AutoModelForSeq2SeqLM\n",
        "import matplotlib.pyplot as plt\n",
        "import keras_ocr\n",
        "import cv2\n",
        "import math\n",
        "import numpy as np\n",
        "import gradio as gr\n",
        "import numpy as np"
      ],
      "metadata": {
        "id": "O7jS8KEZ3HV5"
      },
      "execution_count": 20,
      "outputs": []
    },
    {
      "cell_type": "code",
      "source": [
        "#Translated in your desired language\n",
        "def choose_language(language):\n",
        "  #Support for Hindi, Spanish, French\n",
        "  #Support for Arabic, Turish, arabic\n",
        "  #Support for German\n",
        "  if language == 'hindi':\n",
        "    modelnm = \"Helsinki-NLP/opus-mt-en-hi\"\n",
        "  elif language == 'spanish':\n",
        "    modelnm = \"Helsinki-NLP/opus-mt-en-es\"\n",
        "  elif language == 'german':\n",
        "    modelnm = \"Helsinki-NLP/opus-mt-en-de\"\n",
        "  elif language == 'french':\n",
        "    modelnm = \"Helsinki-NLP/opus-mt-en-fr\"\n",
        "  elif language == 'turkish':\n",
        "    modelnm = \"Helsinki-NLP/opus-mt-en-trk\"\n",
        "  elif language == 'arabic':\n",
        "    modelnm = \"Helsinki-NLP/opus-mt-en-ar\"\n",
        "  else:\n",
        "    modelnm = \"Helsinki-NLP/opus-mt-en-ga\"\n",
        "\n",
        "\n",
        "  tokenizer = AutoTokenizer.from_pretrained(modelnm)\n",
        "  model = AutoModelForSeq2SeqLM.from_pretrained(modelnm)\n",
        "\n",
        "  return tokenizer, model\n",
        "\n",
        "#Function to translate english text to desired language\n",
        "def translator(text, lang):\n",
        "\n",
        "  if '\\n' in text:\n",
        "    text_list = text.splitlines()\n",
        "    text = ' '.join(text_list)\n",
        "\n",
        "  #Huggingface transformers Magic \n",
        "  tokenizer, model = choose_language(lang)\n",
        "  input_ids = tokenizer.encode(text, return_tensors=\"pt\", padding=True)  #Tokenizer\n",
        "  outputs = model.generate(input_ids)  #Model\n",
        "  #Translated Text\n",
        "  decoded_text = tokenizer.decode(outputs[0], skip_special_tokens=True)  #Tokenizer\n",
        "  return decoded_text\n"
      ],
      "metadata": {
        "id": "E4EgtneNElw1"
      },
      "execution_count": 21,
      "outputs": []
    },
    {
      "cell_type": "code",
      "source": [
        "#Getting cordinates\n",
        "def midpoint(x1, y1, x2, y2):\n",
        "    x_mid = int((x1 + x2)/2)\n",
        "    y_mid = int((y1 + y2)/2)\n",
        "    return (x_mid, y_mid)\n",
        "\n",
        "pipeline = keras_ocr.pipeline.Pipeline()\n",
        "\n",
        "#Getting cordinates for text insie image\n",
        "#This will help in filling up the space with colors\n",
        "def img_text_cords(im): #, pipeline):\n",
        "    #read image\n",
        "    img = keras_ocr.tools.read(im)\n",
        "    #generate (word, box) tuples \n",
        "    prediction_groups = pipeline.recognize([img])  \n",
        "    mask = np.zeros(img.shape[:2], dtype=\"uint8\")\n",
        "    for box in prediction_groups[0]:\n",
        "        x0, y0 = box[1][0]\n",
        "        x1, y1 = box[1][1] \n",
        "        x2, y2 = box[1][2]\n",
        "        x3, y3 = box[1][3] \n",
        "                \n",
        "        x_mid0, y_mid0 = midpoint(x1, y1, x2, y2)\n",
        "        x_mid1, y_mi1 = midpoint(x0, y0, x3, y3)\n",
        "        \n",
        "        thickness = int(math.sqrt( (x2 - x1)**2 + (y2 - y1)**2 ))\n",
        "        \n",
        "        cv2.line(mask, (x_mid0, y_mid0), (x_mid1, y_mi1), 255,    \n",
        "        thickness)\n",
        "        img = cv2.inpaint(img, mask, 7, cv2.INPAINT_NS)\n",
        "                 \n",
        "    return img \n",
        "\n",
        "#Extracting text from image\n",
        "def text_extract(im):\n",
        "  #Using pytesseract to read text\n",
        "  ocr_text = pytesseract.image_to_string(im)\n",
        "  return ocr_text\n",
        "\n",
        "#Formatting the text to multi lines structure\n",
        "#This is mainly for translated text to look and fit better on an image\n",
        "def format_text(language,extracted_text):\n",
        "  \n",
        "  translated_text = translator(extracted_text, language)\n",
        "  \n",
        "  word_list,i = [],0\n",
        "  for word in translated_text.split():\n",
        "    if i%5 != 0:\n",
        "      word_list.append(' '+word)\n",
        "    else:\n",
        "      word_list.append('\\n'+word)\n",
        "    i+=1 \n",
        "\n",
        "  new_title_text = ''.join(word_list)\n",
        "  return new_title_text\n",
        "\n",
        "\n",
        "def translate_image(im, language):\n",
        "  #Extract text, translate in your language and format it \n",
        "  extracted_text = text_extract(im)\n",
        "  #font select -- Getting Unicode Text\n",
        "  title_font = ImageFont.truetype('/content/gdrive/My Drive/sample_images/arial-unicode-ms.ttf',30)\n",
        "  #text to write on image #Example in hindi - Unicode text u\"आप जीवन में मिलता हर मौका ले लो, क्योंकि कुछ चीजें केवल एक बार होती हैं. शुभ सुबह\"  \n",
        "  txt = format_text(language,extracted_text)\n",
        "\n",
        "  #Editing image\n",
        "  img_returned = img_text_cords(im) \n",
        "  img_rgb = cv2.cvtColor(img_returned, cv2.COLOR_BGR2RGB)\n",
        "  cv2.imwrite(\"text_free_image.jpg\",img_rgb)\n",
        "  new_image = Image.open(\"text_free_image.jpg\")\n",
        "\n",
        "  #Enable writing on image\n",
        "  image_editable = ImageDraw.Draw(new_image)\n",
        "  image_editable.multiline_text((10,10), txt,spacing=2, font=title_font, fill= (0, 0, 0)) #(237, 230, 211)) (0, 0, 0))\n",
        "  return new_image\n"
      ],
      "metadata": {
        "colab": {
          "base_uri": "https://localhost:8080/"
        },
        "id": "cmov6DmdfH_-",
        "outputId": "2a31006b-5029-445e-a118-8fce3846ca27"
      },
      "execution_count": 22,
      "outputs": [
        {
          "output_type": "stream",
          "name": "stdout",
          "text": [
            "Looking for /root/.keras-ocr/craft_mlt_25k.h5\n",
            "Looking for /root/.keras-ocr/crnn_kurapan.h5\n"
          ]
        }
      ]
    },
    {
      "cell_type": "code",
      "source": [
        "title = \"Translate English Text to Your Regional Language In Your Forwarded Images\"\n",
        "description = \"This fun Gradio demo is for translating English quote in an image (usually whatsapp forwards :) ) to your local or preferred language. To use it, simply upload your image, select one of the language choices given (hindi, spanish, german, french, arabic, irish, and turkish) from radio buttons provided. You can alternately click one of the examples to load them and select the language choice along with it.\"\n",
        "article = \"<div style='text-align: center;'>Image Text Translate by <a href='https://twitter.com/yvrjsharma' target='_blank'>Yuvraj S</a> | <a href='https://github.com/Sxela/ArcaneGAN' target='_blank'>Github Repo</a> | <center><img src='https://visitor-badge.glitch.me/badge?page_id=akhaliq_arcanegan' alt='visitor badge'></center></div>\"\n",
        "pipeline = keras_ocr.pipeline.Pipeline()\n",
        "gr.Interface(\n",
        "    translate_image, \n",
        "    [gr.inputs.Image(type=\"filepath\", label=\"Input\"), gr.inputs.Radio(choices=['hindi','spanish','french','turkish','german','irish', 'arabic'], type=\"value\", default='hindi', label='Choose A Language')], \n",
        "    gr.outputs.Image(type=\"pil\", label=\"Output\"), \"text\",\n",
        "    title=title,\n",
        "    description=description,\n",
        "    article=article,\n",
        "    #examples=[['bill.png','version 0.2'],['keanu.png','version 0.3'],['will.jpeg','version 0.2']],\n",
        "    enable_queue=True\n",
        "   ).launch(debug=True)"
      ],
      "metadata": {
        "id": "N-hI8F5L67jB"
      },
      "execution_count": null,
      "outputs": []
    },
    {
      "cell_type": "code",
      "source": [
        ""
      ],
      "metadata": {
        "id": "E8U3HB7Xds3n"
      },
      "execution_count": null,
      "outputs": []
    }
  ],
  "metadata": {
    "colab": {
      "name": "Whatsapp_Image_Forwards_In_Your_Language_GradioDemo.ipynb",
      "provenance": [],
      "collapsed_sections": [],
      "include_colab_link": true
    },
    "language_info": {
      "name": "python"
    },
    "kernelspec": {
      "name": "python3",
      "display_name": "Python 3"
    },
    "accelerator": "GPU"
  },
  "nbformat": 4,
  "nbformat_minor": 0
}