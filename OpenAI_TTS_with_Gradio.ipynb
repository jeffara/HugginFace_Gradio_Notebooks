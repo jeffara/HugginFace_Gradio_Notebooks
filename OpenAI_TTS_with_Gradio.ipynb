{
  "nbformat": 4,
  "nbformat_minor": 0,
  "metadata": {
    "colab": {
      "provenance": [],
      "authorship_tag": "ABX9TyPRVtEaH34+TT4gp7DgGQjP",
      "include_colab_link": true
    },
    "kernelspec": {
      "name": "python3",
      "display_name": "Python 3"
    },
    "language_info": {
      "name": "python"
    }
  },
  "cells": [
    {
      "cell_type": "markdown",
      "metadata": {
        "id": "view-in-github",
        "colab_type": "text"
      },
      "source": [
        "<a href=\"https://colab.research.google.com/github/yvrjsharma/HugginFace_Gradio/blob/main/OpenAI_TTS_with_Gradio.ipynb\" target=\"_parent\"><img src=\"https://colab.research.google.com/assets/colab-badge.svg\" alt=\"Open In Colab\"/></a>"
      ]
    },
    {
      "cell_type": "code",
      "execution_count": null,
      "metadata": {
        "id": "poKnX2s19gpr"
      },
      "outputs": [],
      "source": [
        "!pip install --upgrade gradio -q"
      ]
    },
    {
      "cell_type": "code",
      "source": [
        "!pip install openai -q"
      ],
      "metadata": {
        "id": "Xo9Liwhx9syB"
      },
      "execution_count": null,
      "outputs": []
    },
    {
      "cell_type": "code",
      "source": [
        "import gradio as gr\n",
        "import os\n",
        "import tempfile\n",
        "from openai import OpenAI"
      ],
      "metadata": {
        "id": "Ec__dI8vAxzv"
      },
      "execution_count": 3,
      "outputs": []
    },
    {
      "cell_type": "code",
      "source": [
        "# Set an environment variable for key\n",
        "os.environ['OPENAI_API_KEY'] =  \"sk-...\" # Enter your openai api key here\n",
        "\n",
        "client = OpenAI() # add api_key\n",
        "\n",
        "def tts(text, model, voice):\n",
        "    response = client.audio.speech.create(\n",
        "        model=model, #\"tts-1\",\"tts-1-hd\"\n",
        "        voice=voice, #'alloy', 'echo', 'fable', 'onyx', 'nova', 'shimmer'\n",
        "        input=text,\n",
        "    )\n",
        "\n",
        "    # Create a temp file to save the audio\n",
        "    with tempfile.NamedTemporaryFile(suffix=\".mp3\", delete=False) as temp_file:\n",
        "        temp_file.write(response.content)\n",
        "\n",
        "    # Get the file path of the temp file\n",
        "    temp_file_path = temp_file.name\n",
        "\n",
        "    return temp_file_path\n",
        "\n",
        "\n",
        "with gr.Blocks() as demo:\n",
        "    gr.Markdown(\"# <center> OpenAI Text-To-Speech API with Gradio </center>\")\n",
        "    with gr.Row():\n",
        "      model = gr.Dropdown(choices=['tts-1','tts-1-hd'], label='Model', value='tts-1')\n",
        "      voice = gr.Dropdown(choices=['alloy', 'echo', 'fable', 'onyx', 'nova', 'shimmer'], label='Voice Options', value='alloy')\n",
        "\n",
        "    text = gr.Textbox(label=\"Input text\", placeholder=\"Input text and press the Text-To-Speech button or press Enter.\")\n",
        "    btn = gr.Button(\"Text-To-Speech\")\n",
        "    output_audio = gr.Audio(label=\"Speech Output\")\n",
        "\n",
        "    text.submit(fn=tts, inputs=[text, model, voice], outputs=output_audio, api_name=\"tts_1\", concurrency_limit=None)\n",
        "    btn.click(fn=tts, inputs=[text, model, voice], outputs=output_audio, api_name=\"tts_2\", concurrency_limit=None)\n",
        "\n",
        "demo.launch()"
      ],
      "metadata": {
        "colab": {
          "base_uri": "https://localhost:8080/",
          "height": 628
        },
        "id": "7JSzZvjB9ver",
        "outputId": "a0114a75-fbe7-4052-b272-5d49fc8f0f3e"
      },
      "execution_count": 5,
      "outputs": [
        {
          "output_type": "stream",
          "name": "stdout",
          "text": [
            "Setting queue=True in a Colab notebook requires sharing enabled. Setting `share=True` (you can turn this off by setting `share=False` in `launch()` explicitly).\n",
            "\n",
            "Colab notebook detected. To show errors in colab notebook, set debug=True in launch()\n",
            "Running on public URL: https://492ba4182a3c570c11.gradio.live\n",
            "\n",
            "This share link expires in 72 hours. For free permanent hosting and GPU upgrades, run `gradio deploy` from Terminal to deploy to Spaces (https://huggingface.co/spaces)\n"
          ]
        },
        {
          "output_type": "display_data",
          "data": {
            "text/plain": [
              "<IPython.core.display.HTML object>"
            ],
            "text/html": [
              "<div><iframe src=\"https://492ba4182a3c570c11.gradio.live\" width=\"100%\" height=\"500\" allow=\"autoplay; camera; microphone; clipboard-read; clipboard-write;\" frameborder=\"0\" allowfullscreen></iframe></div>"
            ]
          },
          "metadata": {}
        },
        {
          "output_type": "execute_result",
          "data": {
            "text/plain": []
          },
          "metadata": {},
          "execution_count": 5
        }
      ]
    }
  ]
}